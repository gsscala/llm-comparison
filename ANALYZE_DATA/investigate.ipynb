{
 "cells": [
  {
   "cell_type": "code",
   "execution_count": 7,
   "id": "f99fd181",
   "metadata": {},
   "outputs": [],
   "source": [
    "from json import load, dump\n",
    "import os\n",
    "import re\n",
    "import numpy as np\n",
    "import pandas as pd"
   ]
  },
  {
   "cell_type": "code",
   "execution_count": 8,
   "id": "de2de4ef",
   "metadata": {},
   "outputs": [],
   "source": [
    "results = []\n",
    "\n",
    "string = \"</think>\"\n",
    "\n",
    "for file in os.listdir(\"EXTRACTED_FILES\"):\n",
    "\ttry:\n",
    "\t\twith open(f\"EXTRACTED_FILES/{file}\", \"r\", encoding=\"utf-8\") as f:\n",
    "\t\t\tmodel = load(f)\n",
    "\texcept:\n",
    "\t\tprint(file)\n",
    "\t\tcontinue\n",
    "\tcnt_plus = 0\n",
    "\tcnt_neg = 0\n",
    "\tfor instance in model:\n",
    "\t\tindex = instance[\"raw_model_output\"].find(string)\n",
    "\t\tif index == -1:\n",
    "\t\t\toutput = instance[\"raw_model_output\"]\n",
    "\t\telse:\n",
    "\t\t\toutput = instance[\"raw_model_output\"][index + len(string):]\n",
    "\t\toption = re.findall(r'\\d+', output)\n",
    "\t\toption = [int(x) for x in option if int(x) in range(5)]\n",
    "\t\tif len(option) == 1:\n",
    "\t\t\tinstance[\"predicted_label\"] = option[0]\n",
    "\t\telse:\n",
    "\t\t\tinstance[\"predicted_label\"] = -1\n",
    "\t\t\tif len(option) > 1:\n",
    "\t\t\t\tcnt_plus += 1\n",
    "\t\t\telse:\n",
    "\t\t\t\tcnt_neg += 1\n",
    "\twith open(f\"new_method/{file}\", \"w\", encoding=\"utf-8\") as f:\n",
    "\t\tdump(model, f)\n",
    "\tresults.append({\"model\": file, \"more than one number\": cnt_plus, \"no valid numbers\": cnt_neg, \"more than one number %\": 100 * cnt_plus / len(model), \"no valid numbers %\": 100 * cnt_neg / len(model)})\n",
    "\n",
    "df = pd.DataFrame(results)"
   ]
  },
  {
   "cell_type": "code",
   "execution_count": 9,
   "id": "0342c401",
   "metadata": {},
   "outputs": [
    {
     "data": {
      "application/vnd.microsoft.datawrangler.viewer.v0+json": {
       "columns": [
        {
         "name": "index",
         "rawType": "int64",
         "type": "integer"
        },
        {
         "name": "model",
         "rawType": "object",
         "type": "string"
        },
        {
         "name": "more than one number",
         "rawType": "int64",
         "type": "integer"
        },
        {
         "name": "no valid numbers",
         "rawType": "int64",
         "type": "integer"
        },
        {
         "name": "more than one number %",
         "rawType": "float64",
         "type": "float"
        },
        {
         "name": "no valid numbers %",
         "rawType": "float64",
         "type": "float"
        }
       ],
       "ref": "da85f364-5973-4f56-ace6-167cf06a0625",
       "rows": [
        [
         "0",
         "qwen3_14b_semeval",
         "19",
         "12",
         "0.15348574198238954",
         "0.09693836335729865"
        ],
        [
         "1",
         "qwen3_8b_semeval",
         "4",
         "4",
         "0.03231278778576622",
         "0.03231278778576622"
        ],
        [
         "2",
         "gpt-oss_20b_semeval",
         "2",
         "8",
         "0.01615639389288311",
         "0.06462557557153244"
        ],
        [
         "3",
         "llama3.2_latest_semeval",
         "0",
         "114",
         "0.0",
         "0.9209144518943372"
        ],
        [
         "4",
         "gemma2_2b_sst",
         "0",
         "0",
         "0.0",
         "0.0"
        ],
        [
         "5",
         "llama3.1_8b_sst",
         "2",
         "1",
         "0.09049773755656108",
         "0.04524886877828054"
        ],
        [
         "6",
         "gemma2_9b_sst",
         "0",
         "0",
         "0.0",
         "0.0"
        ],
        [
         "7",
         "qwen2.5_14b_sst",
         "0",
         "0",
         "0.0",
         "0.0"
        ],
        [
         "8",
         "qwen2.5_7b_sst",
         "0",
         "0",
         "0.0",
         "0.0"
        ],
        [
         "9",
         "aya_8b_semeval",
         "0",
         "0",
         "0.0",
         "0.0"
        ],
        [
         "10",
         "phi3.5_3.8b_semeval",
         "3620",
         "5222",
         "29.243072946118428",
         "42.184344454317795"
        ],
        [
         "11",
         "phi4-reasoning_14b_sst",
         "8",
         "0",
         "0.36199095022624433",
         "0.0"
        ],
        [
         "12",
         "gpt-oss_20b_sst",
         "0",
         "0",
         "0.0",
         "0.0"
        ],
        [
         "13",
         "llama3.1_8b_semeval",
         "333",
         "126",
         "2.6900395831650377",
         "1.0178528152516357"
        ],
        [
         "14",
         "llama3.2_latest_sst",
         "0",
         "0",
         "0.0",
         "0.0"
        ],
        [
         "15",
         "phi4_14b_sst",
         "0",
         "0",
         "0.0",
         "0.0"
        ],
        [
         "16",
         "qwen2.5_14b_semeval",
         "0",
         "0",
         "0.0",
         "0.0"
        ],
        [
         "17",
         "phi3_3.8b_sst",
         "101",
         "268",
         "4.570135746606335",
         "12.126696832579185"
        ],
        [
         "18",
         "mistral-small_24b_semeval",
         "0",
         "51",
         "0.0",
         "0.41198804426851926"
        ],
        [
         "19",
         "olmo2_13b_sst",
         "0",
         "0",
         "0.0",
         "0.0"
        ],
        [
         "20",
         "mistral-nemo_12b_sst",
         "0",
         "0",
         "0.0",
         "0.0"
        ],
        [
         "21",
         "gemma3_12b_sst",
         "0",
         "0",
         "0.0",
         "0.0"
        ],
        [
         "22",
         "gemma3_27b_sst",
         "0",
         "0",
         "0.0",
         "0.0"
        ],
        [
         "23",
         "mistral_7b_sst",
         "0",
         "0",
         "0.0",
         "0.0"
        ],
        [
         "24",
         "gemma2_2b_semeval",
         "0",
         "0",
         "0.0",
         "0.0"
        ],
        [
         "25",
         "phi4-mini_3.8b_sst",
         "1917",
         "83",
         "86.7420814479638",
         "3.755656108597285"
        ],
        [
         "26",
         "mistral-small3.1_24b_sst",
         "0",
         "0",
         "0.0",
         "0.0"
        ],
        [
         "27",
         "gemma3_4b_sst",
         "0",
         "0",
         "0.0",
         "0.0"
        ],
        [
         "28",
         "mistral-small_24b_sst",
         "0",
         "0",
         "0.0",
         "0.0"
        ],
        [
         "29",
         "gemma2_9b_semeval",
         "0",
         "0",
         "0.0",
         "0.0"
        ],
        [
         "30",
         "mistral-nemo_12b_semeval",
         "0",
         "0",
         "0.0",
         "0.0"
        ],
        [
         "31",
         "phi3_14b_semeval",
         "0",
         "0",
         "0.0",
         "0.0"
        ],
        [
         "32",
         "qwen2.5_32b_sst",
         "0",
         "0",
         "0.0",
         "0.0"
        ],
        [
         "33",
         "phi3_14b_sst",
         "3",
         "1",
         "0.13574660633484162",
         "0.04524886877828054"
        ],
        [
         "34",
         "qwen3_8b_sst",
         "0",
         "2",
         "0.0",
         "0.09049773755656108"
        ],
        [
         "35",
         "phi4_14b_semeval",
         "14",
         "0",
         "0.11309475725018175",
         "0.0"
        ],
        [
         "36",
         "mistral-small3.2_24b_semeval",
         "0",
         "1",
         "0.0",
         "0.008078196946441555"
        ],
        [
         "37",
         "olmo2_7b_sst",
         "0",
         "0",
         "0.0",
         "0.0"
        ],
        [
         "38",
         "deepseek-r1_32b_semeval",
         "33",
         "0",
         "0.26658049923257127",
         "0.0"
        ],
        [
         "39",
         "gemma3_12b_semeval",
         "0",
         "0",
         "0.0",
         "0.0"
        ],
        [
         "40",
         "olmo2_7b_semeval",
         "0",
         "53",
         "0.0",
         "0.42814443816140235"
        ],
        [
         "41",
         "mistral-small3.1_24b_semeval",
         "8",
         "21",
         "0.06462557557153244",
         "0.16964213587527263"
        ],
        [
         "42",
         "aya_8b_sst",
         "0",
         "1",
         "0.0",
         "0.04524886877828054"
        ],
        [
         "43",
         "qwen2.5_7b_semeval",
         "0",
         "0",
         "0.0",
         "0.0"
        ],
        [
         "44",
         "gemma2_27b_semeval",
         "0",
         "0",
         "0.0",
         "0.0"
        ],
        [
         "45",
         "qwen3_30b_sst",
         "2",
         "0",
         "0.09049773755656108",
         "0.0"
        ],
        [
         "46",
         "deepseek-r1_32b_sst",
         "18",
         "0",
         "0.8144796380090498",
         "0.0"
        ],
        [
         "47",
         "mistral_7b_semeval",
         "15",
         "0",
         "0.12117295419662331",
         "0.0"
        ],
        [
         "48",
         "zephyr_7b_semeval",
         "5175",
         "0",
         "41.80466919783505",
         "0.0"
        ],
        [
         "49",
         "zephyr_7b_sst",
         "758",
         "0",
         "34.29864253393665",
         "0.0"
        ]
       ],
       "shape": {
        "columns": 5,
        "rows": 61
       }
      },
      "text/html": [
       "<div>\n",
       "<style scoped>\n",
       "    .dataframe tbody tr th:only-of-type {\n",
       "        vertical-align: middle;\n",
       "    }\n",
       "\n",
       "    .dataframe tbody tr th {\n",
       "        vertical-align: top;\n",
       "    }\n",
       "\n",
       "    .dataframe thead th {\n",
       "        text-align: right;\n",
       "    }\n",
       "</style>\n",
       "<table border=\"1\" class=\"dataframe\">\n",
       "  <thead>\n",
       "    <tr style=\"text-align: right;\">\n",
       "      <th></th>\n",
       "      <th>model</th>\n",
       "      <th>more than one number</th>\n",
       "      <th>no valid numbers</th>\n",
       "      <th>more than one number %</th>\n",
       "      <th>no valid numbers %</th>\n",
       "    </tr>\n",
       "  </thead>\n",
       "  <tbody>\n",
       "    <tr>\n",
       "      <th>0</th>\n",
       "      <td>qwen3_14b_semeval</td>\n",
       "      <td>19</td>\n",
       "      <td>12</td>\n",
       "      <td>0.153486</td>\n",
       "      <td>0.096938</td>\n",
       "    </tr>\n",
       "    <tr>\n",
       "      <th>1</th>\n",
       "      <td>qwen3_8b_semeval</td>\n",
       "      <td>4</td>\n",
       "      <td>4</td>\n",
       "      <td>0.032313</td>\n",
       "      <td>0.032313</td>\n",
       "    </tr>\n",
       "    <tr>\n",
       "      <th>2</th>\n",
       "      <td>gpt-oss_20b_semeval</td>\n",
       "      <td>2</td>\n",
       "      <td>8</td>\n",
       "      <td>0.016156</td>\n",
       "      <td>0.064626</td>\n",
       "    </tr>\n",
       "    <tr>\n",
       "      <th>3</th>\n",
       "      <td>llama3.2_latest_semeval</td>\n",
       "      <td>0</td>\n",
       "      <td>114</td>\n",
       "      <td>0.000000</td>\n",
       "      <td>0.920914</td>\n",
       "    </tr>\n",
       "    <tr>\n",
       "      <th>4</th>\n",
       "      <td>gemma2_2b_sst</td>\n",
       "      <td>0</td>\n",
       "      <td>0</td>\n",
       "      <td>0.000000</td>\n",
       "      <td>0.000000</td>\n",
       "    </tr>\n",
       "    <tr>\n",
       "      <th>...</th>\n",
       "      <td>...</td>\n",
       "      <td>...</td>\n",
       "      <td>...</td>\n",
       "      <td>...</td>\n",
       "      <td>...</td>\n",
       "    </tr>\n",
       "    <tr>\n",
       "      <th>56</th>\n",
       "      <td>gemma3_27b_semeval</td>\n",
       "      <td>0</td>\n",
       "      <td>0</td>\n",
       "      <td>0.000000</td>\n",
       "      <td>0.000000</td>\n",
       "    </tr>\n",
       "    <tr>\n",
       "      <th>57</th>\n",
       "      <td>qwen3_30b_semeval</td>\n",
       "      <td>27</td>\n",
       "      <td>0</td>\n",
       "      <td>0.218111</td>\n",
       "      <td>0.000000</td>\n",
       "    </tr>\n",
       "    <tr>\n",
       "      <th>58</th>\n",
       "      <td>phi4-mini_3.8b_semeval</td>\n",
       "      <td>10555</td>\n",
       "      <td>548</td>\n",
       "      <td>85.265369</td>\n",
       "      <td>4.426852</td>\n",
       "    </tr>\n",
       "    <tr>\n",
       "      <th>59</th>\n",
       "      <td>phi3.5_3.8b_sst</td>\n",
       "      <td>639</td>\n",
       "      <td>737</td>\n",
       "      <td>28.914027</td>\n",
       "      <td>33.348416</td>\n",
       "    </tr>\n",
       "    <tr>\n",
       "      <th>60</th>\n",
       "      <td>olmo2_13b_semeval</td>\n",
       "      <td>2</td>\n",
       "      <td>35</td>\n",
       "      <td>0.016156</td>\n",
       "      <td>0.282737</td>\n",
       "    </tr>\n",
       "  </tbody>\n",
       "</table>\n",
       "<p>61 rows × 5 columns</p>\n",
       "</div>"
      ],
      "text/plain": [
       "                      model  more than one number  no valid numbers  \\\n",
       "0         qwen3_14b_semeval                    19                12   \n",
       "1          qwen3_8b_semeval                     4                 4   \n",
       "2       gpt-oss_20b_semeval                     2                 8   \n",
       "3   llama3.2_latest_semeval                     0               114   \n",
       "4             gemma2_2b_sst                     0                 0   \n",
       "..                      ...                   ...               ...   \n",
       "56       gemma3_27b_semeval                     0                 0   \n",
       "57        qwen3_30b_semeval                    27                 0   \n",
       "58   phi4-mini_3.8b_semeval                 10555               548   \n",
       "59          phi3.5_3.8b_sst                   639               737   \n",
       "60        olmo2_13b_semeval                     2                35   \n",
       "\n",
       "    more than one number %  no valid numbers %  \n",
       "0                 0.153486            0.096938  \n",
       "1                 0.032313            0.032313  \n",
       "2                 0.016156            0.064626  \n",
       "3                 0.000000            0.920914  \n",
       "4                 0.000000            0.000000  \n",
       "..                     ...                 ...  \n",
       "56                0.000000            0.000000  \n",
       "57                0.218111            0.000000  \n",
       "58               85.265369            4.426852  \n",
       "59               28.914027           33.348416  \n",
       "60                0.016156            0.282737  \n",
       "\n",
       "[61 rows x 5 columns]"
      ]
     },
     "execution_count": 9,
     "metadata": {},
     "output_type": "execute_result"
    }
   ],
   "source": [
    "df"
   ]
  }
 ],
 "metadata": {
  "kernelspec": {
   "display_name": ".venv",
   "language": "python",
   "name": "python3"
  },
  "language_info": {
   "codemirror_mode": {
    "name": "ipython",
    "version": 3
   },
   "file_extension": ".py",
   "mimetype": "text/x-python",
   "name": "python",
   "nbconvert_exporter": "python",
   "pygments_lexer": "ipython3",
   "version": "3.12.3"
  }
 },
 "nbformat": 4,
 "nbformat_minor": 5
}
