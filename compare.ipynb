{
 "cells": [
  {
   "cell_type": "code",
   "execution_count": 51,
   "id": "aad99e9f",
   "metadata": {},
   "outputs": [],
   "source": [
    "import pandas as pd\n",
    "import numpy as np\n",
    "from datasets import load_dataset\n",
    "import json"
   ]
  },
  {
   "cell_type": "code",
   "execution_count": 52,
   "id": "cc28e862",
   "metadata": {},
   "outputs": [
    {
     "name": "stderr",
     "output_type": "stream",
     "text": [
      "Repo card metadata block was not found. Setting CardData to empty.\n"
     ]
    }
   ],
   "source": [
    "semeval = pd.read_csv(\n",
    "    \"semeval.txt\",\n",
    "    sep='\\t',\n",
    "    header=None,\n",
    "    names=['tweet_id', 'hashtag', 'label', 'text'],\n",
    "    encoding='utf-8',\n",
    "    quoting=3\n",
    ")\n",
    "\n",
    "sst = pd.DataFrame(load_dataset(\"SetFit/sst5\")[\"test\"])"
   ]
  },
  {
   "cell_type": "code",
   "execution_count": 53,
   "id": "641abd34",
   "metadata": {},
   "outputs": [],
   "source": [
    "semeval['label'] = semeval['label'].map({-2: 0, -1: 1, 0: 2, 1: 3, 2: 4})\n",
    "semeval = semeval.drop(columns=['tweet_id'])\n",
    "sst = sst.drop(columns=['label_text'])"
   ]
  },
  {
   "cell_type": "code",
   "execution_count": 54,
   "id": "f651e375",
   "metadata": {},
   "outputs": [
    {
     "data": {
      "application/vnd.microsoft.datawrangler.viewer.v0+json": {
       "columns": [
        {
         "name": "index",
         "rawType": "int64",
         "type": "integer"
        },
        {
         "name": "text",
         "rawType": "object",
         "type": "string"
        },
        {
         "name": "label",
         "rawType": "int64",
         "type": "integer"
        }
       ],
       "ref": "df2226c7-1cf2-45b1-b88a-e0e206e94bf7",
       "rows": [
        [
         "62",
         "it represents better-than-average movie-making that does n't demand a dumb , distracted audience .",
         "4"
        ],
        [
         "1907",
         "the cast is uniformly excellent ... but the film itself is merely mildly charming .",
         "2"
        ],
        [
         "2112",
         "there has been much puzzlement among critics about what the election symbolizes .",
         "1"
        ],
        [
         "1486",
         "... both hokey and super-cool , and definitely not in a hurry , so sit back , relax and have a few laughs while the little ones get a fuzzy treat . '",
         "3"
        ],
        [
         "564",
         "like most bond outings in recent years , some of the stunts are so outlandish that they border on being cartoonlike .",
         "1"
        ]
       ],
       "shape": {
        "columns": 2,
        "rows": 5
       }
      },
      "text/html": [
       "<div>\n",
       "<style scoped>\n",
       "    .dataframe tbody tr th:only-of-type {\n",
       "        vertical-align: middle;\n",
       "    }\n",
       "\n",
       "    .dataframe tbody tr th {\n",
       "        vertical-align: top;\n",
       "    }\n",
       "\n",
       "    .dataframe thead th {\n",
       "        text-align: right;\n",
       "    }\n",
       "</style>\n",
       "<table border=\"1\" class=\"dataframe\">\n",
       "  <thead>\n",
       "    <tr style=\"text-align: right;\">\n",
       "      <th></th>\n",
       "      <th>text</th>\n",
       "      <th>label</th>\n",
       "    </tr>\n",
       "  </thead>\n",
       "  <tbody>\n",
       "    <tr>\n",
       "      <th>62</th>\n",
       "      <td>it represents better-than-average movie-making...</td>\n",
       "      <td>4</td>\n",
       "    </tr>\n",
       "    <tr>\n",
       "      <th>1907</th>\n",
       "      <td>the cast is uniformly excellent ... but the fi...</td>\n",
       "      <td>2</td>\n",
       "    </tr>\n",
       "    <tr>\n",
       "      <th>2112</th>\n",
       "      <td>there has been much puzzlement among critics a...</td>\n",
       "      <td>1</td>\n",
       "    </tr>\n",
       "    <tr>\n",
       "      <th>1486</th>\n",
       "      <td>... both hokey and super-cool , and definitely...</td>\n",
       "      <td>3</td>\n",
       "    </tr>\n",
       "    <tr>\n",
       "      <th>564</th>\n",
       "      <td>like most bond outings in recent years , some ...</td>\n",
       "      <td>1</td>\n",
       "    </tr>\n",
       "  </tbody>\n",
       "</table>\n",
       "</div>"
      ],
      "text/plain": [
       "                                                   text  label\n",
       "62    it represents better-than-average movie-making...      4\n",
       "1907  the cast is uniformly excellent ... but the fi...      2\n",
       "2112  there has been much puzzlement among critics a...      1\n",
       "1486  ... both hokey and super-cool , and definitely...      3\n",
       "564   like most bond outings in recent years , some ...      1"
      ]
     },
     "execution_count": 54,
     "metadata": {},
     "output_type": "execute_result"
    }
   ],
   "source": [
    "sst.sample(5)"
   ]
  },
  {
   "cell_type": "code",
   "execution_count": 68,
   "id": "4b2082fd",
   "metadata": {},
   "outputs": [
    {
     "data": {
      "application/vnd.microsoft.datawrangler.viewer.v0+json": {
       "columns": [
        {
         "name": "index",
         "rawType": "int64",
         "type": "integer"
        },
        {
         "name": "hashtag",
         "rawType": "object",
         "type": "string"
        },
        {
         "name": "label",
         "rawType": "int64",
         "type": "integer"
        },
        {
         "name": "text",
         "rawType": "object",
         "type": "string"
        }
       ],
       "ref": "fcc5f167-2943-4930-84e3-36b54c723120",
       "rows": [
        [
         "886",
         "#Libya",
         "2",
         "Top 10 Countries with the Deadliest Roadshttps://t.co/Suz3QXNMyh#Libya #News"
        ],
        [
         "8564",
         "medical marijuana",
         "2",
         "Download Marijuana Medical Handbook: Practical Guide to Therapeutic Uses of Marijuana https://t.co/dkIAvJLKXc https://t.co/w0ljZW5eah"
        ],
        [
         "2446",
         "#stillwithher",
         "3",
         "What will it take for Democrats to woo the white working class? https://t.co/rKIQdXZ4PV #StrongerTogether #StillWithHer #UniteBlue"
        ],
        [
         "5767",
         "cy young",
         "1",
         "@justinverlander everyone in the country is worried about our presidency and you and your girl still whining about the cy young.shut up dude"
        ],
        [
         "12234",
         "westworld",
         "2",
         "Always keep up to date with #Westworld try a free trial of #HBO through amazon!https://t.co/U7kxL2BAz3"
        ]
       ],
       "shape": {
        "columns": 3,
        "rows": 5
       }
      },
      "text/html": [
       "<div>\n",
       "<style scoped>\n",
       "    .dataframe tbody tr th:only-of-type {\n",
       "        vertical-align: middle;\n",
       "    }\n",
       "\n",
       "    .dataframe tbody tr th {\n",
       "        vertical-align: top;\n",
       "    }\n",
       "\n",
       "    .dataframe thead th {\n",
       "        text-align: right;\n",
       "    }\n",
       "</style>\n",
       "<table border=\"1\" class=\"dataframe\">\n",
       "  <thead>\n",
       "    <tr style=\"text-align: right;\">\n",
       "      <th></th>\n",
       "      <th>hashtag</th>\n",
       "      <th>label</th>\n",
       "      <th>text</th>\n",
       "    </tr>\n",
       "  </thead>\n",
       "  <tbody>\n",
       "    <tr>\n",
       "      <th>886</th>\n",
       "      <td>#Libya</td>\n",
       "      <td>2</td>\n",
       "      <td>Top 10 Countries with the Deadliest Roadshttps...</td>\n",
       "    </tr>\n",
       "    <tr>\n",
       "      <th>8564</th>\n",
       "      <td>medical marijuana</td>\n",
       "      <td>2</td>\n",
       "      <td>Download Marijuana Medical Handbook: Practical...</td>\n",
       "    </tr>\n",
       "    <tr>\n",
       "      <th>2446</th>\n",
       "      <td>#stillwithher</td>\n",
       "      <td>3</td>\n",
       "      <td>What will it take for Democrats to woo the whi...</td>\n",
       "    </tr>\n",
       "    <tr>\n",
       "      <th>5767</th>\n",
       "      <td>cy young</td>\n",
       "      <td>1</td>\n",
       "      <td>@justinverlander everyone in the country is wo...</td>\n",
       "    </tr>\n",
       "    <tr>\n",
       "      <th>12234</th>\n",
       "      <td>westworld</td>\n",
       "      <td>2</td>\n",
       "      <td>Always keep up to date with #Westworld try a f...</td>\n",
       "    </tr>\n",
       "  </tbody>\n",
       "</table>\n",
       "</div>"
      ],
      "text/plain": [
       "                 hashtag  label  \\\n",
       "886               #Libya      2   \n",
       "8564   medical marijuana      2   \n",
       "2446       #stillwithher      3   \n",
       "5767            cy young      1   \n",
       "12234          westworld      2   \n",
       "\n",
       "                                                    text  \n",
       "886    Top 10 Countries with the Deadliest Roadshttps...  \n",
       "8564   Download Marijuana Medical Handbook: Practical...  \n",
       "2446   What will it take for Democrats to woo the whi...  \n",
       "5767   @justinverlander everyone in the country is wo...  \n",
       "12234  Always keep up to date with #Westworld try a f...  "
      ]
     },
     "execution_count": 68,
     "metadata": {},
     "output_type": "execute_result"
    }
   ],
   "source": [
    "semeval.sample(5)"
   ]
  },
  {
   "cell_type": "code",
   "execution_count": 56,
   "id": "4a28d0ab",
   "metadata": {},
   "outputs": [
    {
     "data": {
      "image/png": "[encoded data removed]",
      "text/plain": [
       "<Figure size 1600x800 with 2 Axes>"
      ]
     },
     "metadata": {},
     "output_type": "display_data"
    }
   ],
   "source": [
    "import matplotlib.pyplot as plt\n",
    "\n",
    "figure, axes = plt.subplots(1, 2, figsize=(16, 8))\n",
    "labels = ['Very Negative', 'Negative', 'Neutral', 'Positive', 'Very Positive']\n",
    "\n",
    "axes[0].hist(semeval[\"label\"].values, bins=np.arange(6)-0.5, edgecolor=\"black\", rwidth=0.8)\n",
    "axes[1].hist(sst[\"label\"].values, bins=np.arange(6)-0.5, edgecolor=\"black\", rwidth=0.8)\n",
    "\n",
    "for ax in axes:\n",
    "    ax.set_xticks(np.arange(5))\n",
    "    ax.set_xticklabels(labels, rotation=30, ha='right', fontsize=16)\n",
    "    ax.tick_params(axis='y', labelsize=16)\n",
    "\n",
    "axes[0].set_ylabel(\"Frequency\", fontsize=18)\n",
    "\n",
    "axes[0].set_title(\"SemEval\", fontsize=20)\n",
    "axes[1].set_title(\"SST-5\", fontsize=20)\n",
    "\n",
    "plt.tight_layout()\n",
    "plt.show()"
   ]
  },
  {
   "cell_type": "code",
   "execution_count": 57,
   "id": "f41d7dc4",
   "metadata": {},
   "outputs": [],
   "source": [
    "from prediction import Predictor\n",
    "from tqdm.autonotebook import tqdm\n",
    "\n",
    "models = []\n",
    "\n",
    "prompt_sst = \"a\"\n",
    "\n",
    "prompt_semeval = \"a\"\n",
    "\n",
    "for model in models:\n",
    "    responses = []\n",
    "    \n",
    "    Model_obj = Predictor(model, prompt_sst)\n",
    "    for _, test_instance in tqdm(sst.iterrows(), total=sst.shape[0], desc=f\"{model} SST-5\"):\n",
    "        response = Model_obj.predict(test_instance[\"text\"])\n",
    "        response[\"true_label\"] = test_instance[\"label\"]\n",
    "        responses.append(response)\n",
    "    with open(f\"{model}_sst\", \"w\", encoding=\"utf-8\") as f:\n",
    "        json.dump(responses, f)\n",
    "        \n",
    "    responses = []\n",
    "\n",
    "    Model_obj = Predictor(model, prompt_semeval)\n",
    "    for _, test_instance in tqdm(semeval.iterrows(), total=semeval.shape[0], desc=f\"{model} SemEval\"):\n",
    "        response = Model_obj.predict(f\"{test_instance['hashtag']}\\n{test_instance['text']}\")\n",
    "        response[\"true_label\"] = test_instance[\"label\"]\n",
    "        responses.append(response)\n",
    "    with open(f\"{model}_semeval\", \"w\", encoding=\"utf-8\") as f:\n",
    "        json.dump(responses, f)"
   ]
  },
  {
   "cell_type": "markdown",
   "id": "cd4239c3",
   "metadata": {},
   "source": [
    "### LLaMA, Mistral, Mixtral, OLMo, Qwen, Gemma, Aya, DeepSeek, Phi\n",
    "\n",
    "- deepseek-r1:32b\n",
    "- gpt-oss:20b\n",
    "- llama3.2:latest\n",
    "- llama3.1:8b\n",
    "- mistral:7b\n",
    "- mistral-nemo:12b\n",
    "- mistral-small:24b\n",
    "- mistral-small3.1:24b\n",
    "- mistral-small3.2:24b\n",
    "- zephyr:7b\n",
    "- olmo2:7b\n",
    "- olmo2:13b\n",
    "- qwen2.5:7b\n",
    "- qwen2.5:14b\n",
    "- qwen2.5:32b\n",
    "- qwen3:30b\n",
    "- qwen3:14b\n",
    "- qwen3:8b\n",
    "- gemma3:27b\n",
    "- gemma3:12b\n",
    "- gemma3:4b\n",
    "- gemma2:27b\n",
    "- gemma2:9b\n",
    "- gemma2:2b\n",
    "- aya:35b\n",
    "- aya:8b\n",
    "- phi3:14b\n",
    "- phi3:3.8b\n",
    "- phi3.5:3.8b\n",
    "- phi4:14b\n",
    "- phi4-mini:3.8b\n",
    "- phi4-reasoning:14b"
   ]
  },
  {
   "cell_type": "code",
   "execution_count": 58,
   "id": "0ebad459",
   "metadata": {},
   "outputs": [
    {
     "ename": "FileNotFoundError",
     "evalue": "[Errno 2] Aucun fichier ou dossier de ce nom: 'all_results'",
     "output_type": "error",
     "traceback": [
      "\u001b[31m---------------------------------------------------------------------------\u001b[39m",
      "\u001b[31mFileNotFoundError\u001b[39m                         Traceback (most recent call last)",
      "\u001b[36mCell\u001b[39m\u001b[36m \u001b[39m\u001b[32mIn[58]\u001b[39m\u001b[32m, line 21\u001b[39m\n\u001b[32m     18\u001b[39m             r[\u001b[33m\"\u001b[39m\u001b[33mdataset\u001b[39m\u001b[33m\"\u001b[39m] = dataset\n\u001b[32m     19\u001b[39m             all_responses.append(r)\n\u001b[32m---> \u001b[39m\u001b[32m21\u001b[39m \u001b[38;5;28;01mwith\u001b[39;00m \u001b[38;5;28;43mopen\u001b[39;49m\u001b[43m(\u001b[49m\u001b[33;43m\"\u001b[39;49m\u001b[33;43mall_results\u001b[39;49m\u001b[33;43m\"\u001b[39;49m\u001b[43m,\u001b[49m\u001b[43m \u001b[49m\u001b[43mencoding\u001b[49m\u001b[43m=\u001b[49m\u001b[33;43m\"\u001b[39;49m\u001b[33;43mutf-8\u001b[39;49m\u001b[33;43m\"\u001b[39;49m\u001b[43m)\u001b[49m \u001b[38;5;28;01mas\u001b[39;00m f:\n\u001b[32m     22\u001b[39m     json.dump(all_responses, f)\n",
      "\u001b[36mFile \u001b[39m\u001b[32m~/Documents/code/llm-comparison/venv/lib/python3.12/site-packages/IPython/core/interactiveshell.py:343\u001b[39m, in \u001b[36m_modified_open\u001b[39m\u001b[34m(file, *args, **kwargs)\u001b[39m\n\u001b[32m    336\u001b[39m \u001b[38;5;28;01mif\u001b[39;00m file \u001b[38;5;129;01min\u001b[39;00m {\u001b[32m0\u001b[39m, \u001b[32m1\u001b[39m, \u001b[32m2\u001b[39m}:\n\u001b[32m    337\u001b[39m     \u001b[38;5;28;01mraise\u001b[39;00m \u001b[38;5;167;01mValueError\u001b[39;00m(\n\u001b[32m    338\u001b[39m         \u001b[33mf\u001b[39m\u001b[33m\"\u001b[39m\u001b[33mIPython won\u001b[39m\u001b[33m'\u001b[39m\u001b[33mt let you open fd=\u001b[39m\u001b[38;5;132;01m{\u001b[39;00mfile\u001b[38;5;132;01m}\u001b[39;00m\u001b[33m by default \u001b[39m\u001b[33m\"\u001b[39m\n\u001b[32m    339\u001b[39m         \u001b[33m\"\u001b[39m\u001b[33mas it is likely to crash IPython. If you know what you are doing, \u001b[39m\u001b[33m\"\u001b[39m\n\u001b[32m    340\u001b[39m         \u001b[33m\"\u001b[39m\u001b[33myou can use builtins\u001b[39m\u001b[33m'\u001b[39m\u001b[33m open.\u001b[39m\u001b[33m\"\u001b[39m\n\u001b[32m    341\u001b[39m     )\n\u001b[32m--> \u001b[39m\u001b[32m343\u001b[39m \u001b[38;5;28;01mreturn\u001b[39;00m \u001b[43mio_open\u001b[49m\u001b[43m(\u001b[49m\u001b[43mfile\u001b[49m\u001b[43m,\u001b[49m\u001b[43m \u001b[49m\u001b[43m*\u001b[49m\u001b[43margs\u001b[49m\u001b[43m,\u001b[49m\u001b[43m \u001b[49m\u001b[43m*\u001b[49m\u001b[43m*\u001b[49m\u001b[43mkwargs\u001b[49m\u001b[43m)\u001b[49m\n",
      "\u001b[31mFileNotFoundError\u001b[39m: [Errno 2] Aucun fichier ou dossier de ce nom: 'all_results'"
     ]
    }
   ],
   "source": [
    "import os\n",
    "\n",
    "json_files = [f for f in os.listdir() if any(f.endswith(suffix) for suffix in [\"_sst\", \"_semeval\"])]\n",
    "\n",
    "all_responses = []\n",
    "\n",
    "for file in json_files:\n",
    "    with open(file, \"r\", encoding=\"utf-8\") as f:\n",
    "        responses = json.load(f)\n",
    "        if file.endswith(\"_sst\"):\n",
    "            model = file[:-4]\n",
    "            dataset = sst\n",
    "        else:\n",
    "            model = file[:-8]\n",
    "            dataset = semeval\n",
    "        for r in responses:\n",
    "            r[\"model\"] = model\n",
    "            r[\"dataset\"] = dataset\n",
    "            all_responses.append(r)\n",
    "\n",
    "with open(\"all_results\", encoding=\"utf-8\") as f:\n",
    "    json.dump(all_responses, f)"
   ]
  },
  {
   "cell_type": "code",
   "execution_count": null,
   "id": "b3a33d83",
   "metadata": {},
   "outputs": [],
   "source": [
    "merged_df = pd.DataFrame(all_responses)\n",
    "merged_df.head()"
   ]
  }
 ],
 "metadata": {
  "kernelspec": {
   "display_name": "venv",
   "language": "python",
   "name": "python3"
  },
  "language_info": {
   "codemirror_mode": {
    "name": "ipython",
    "version": 3
   },
   "file_extension": ".py",
   "mimetype": "text/x-python",
   "name": "python",
   "nbconvert_exporter": "python",
   "pygments_lexer": "ipython3",
   "version": "3.12.3"
  }
 },
 "nbformat": 4,
 "nbformat_minor": 5
}
